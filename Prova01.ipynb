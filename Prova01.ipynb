{
 "cells": [
  {
   "cell_type": "code",
   "execution_count": null,
   "id": "b8d1bb50-b0e3-4e19-b592-1d3c5de3f8a2",
   "metadata": {},
   "outputs": [],
   "source": [
    "# receber 3 valores inteiros positivos\n"
   ]
  },
  {
   "cell_type": "code",
   "execution_count": null,
   "id": "ba01983b-81ae-4425-8ad5-a278fc55a834",
   "metadata": {},
   "outputs": [],
   "source": [
    "def media_dos_maiores(val1, val2, val3):\n",
    "    \n",
    "        \n",
    "    \n",
    "\n",
    "  "
   ]
  },
  {
   "cell_type": "code",
   "execution_count": null,
   "id": "d2c0ca87-0216-43e7-a48e-1a5839414bbb",
   "metadata": {},
   "outputs": [],
   "source": []
  },
  {
   "cell_type": "code",
   "execution_count": null,
   "id": "8e85b9f5-16a0-4317-8e4b-438a1ef9dd6b",
   "metadata": {},
   "outputs": [],
   "source": []
  },
  {
   "cell_type": "code",
   "execution_count": null,
   "id": "7ffd2f65-494e-4740-add2-341a221c043c",
   "metadata": {},
   "outputs": [],
   "source": []
  }
 ],
 "metadata": {
  "kernelspec": {
   "display_name": "Python [conda env:base] *",
   "language": "python",
   "name": "conda-base-py"
  },
  "language_info": {
   "codemirror_mode": {
    "name": "ipython",
    "version": 3
   },
   "file_extension": ".py",
   "mimetype": "text/x-python",
   "name": "python",
   "nbconvert_exporter": "python",
   "pygments_lexer": "ipython3",
   "version": "3.12.7"
  }
 },
 "nbformat": 4,
 "nbformat_minor": 5
}
